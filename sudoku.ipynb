{
 "metadata": {
  "language_info": {
   "codemirror_mode": {
    "name": "ipython",
    "version": 3
   },
   "file_extension": ".py",
   "mimetype": "text/x-python",
   "name": "python",
   "nbconvert_exporter": "python",
   "pygments_lexer": "ipython3",
   "version": "3.9.4"
  },
  "orig_nbformat": 2,
  "kernelspec": {
   "name": "pythonjvsc74a57bd0f32603f318fdd735d75426be76a4732a9e4c79f72dc0a9011750f0cc8fcf6817",
   "display_name": "Python 3.9.4  ('.env': venv)"
  },
  "metadata": {
   "interpreter": {
    "hash": "f32603f318fdd735d75426be76a4732a9e4c79f72dc0a9011750f0cc8fcf6817"
   }
  }
 },
 "nbformat": 4,
 "nbformat_minor": 2,
 "cells": [
  {
   "cell_type": "code",
   "execution_count": null,
   "metadata": {},
   "outputs": [],
   "source": []
  }
 ]
}